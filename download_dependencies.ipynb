{
 "cells": [
  {
   "cell_type": "markdown",
   "metadata": {},
   "source": [
    "# Welcome! \n",
    "### Here you will find the code to download the required files. All you need is to run the cells.\n",
    "\n",
    "### Feel free to skip the optional ones."
   ]
  },
  {
   "cell_type": "markdown",
   "metadata": {},
   "source": [
    "## Download the Model (Required) ~250 MB\n",
    "\n",
    "First of all, we need to download our model in the onnx format. Run the cell below and wait while it downloads the file!"
   ]
  },
  {
   "cell_type": "code",
   "execution_count": null,
   "metadata": {},
   "outputs": [],
   "source": [
    "import urllib.request\n",
    "import urllib.error\n",
    "\n",
    "#Check if the ONNX file is already downloaded\n",
    "try:\n",
    "    open('src/yolov4.onnx')\n",
    "except FileNotFoundError:\n",
    "    try:\n",
    "        # URL of the ONNX file on GitHub\n",
    "        onnx_url = 'https://github.com/onnx/models/raw/main/validated/vision/object_detection_segmentation/yolov4/model/yolov4.onnx'\n",
    "\n",
    "        # Local path to save the downloaded ONNX file\n",
    "        local_path = 'src/yolov4.onnx'\n",
    "\n",
    "        # Download the ONNX file from GitHub\n",
    "        urllib.request.urlretrieve(onnx_url, local_path)\n",
    "        print(\"Download succesful\")\n",
    "    except urllib.error.URLError as e:\n",
    "        print(f\"Error occurred while downloading the file: {e}\")"
   ]
  },
  {
   "cell_type": "markdown",
   "metadata": {},
   "source": [
    "## Download Datasets for Testing (Optional)\n",
    "\n",
    "If you don't know where to start in testing the dataset, you can run some of the cells below to download datasets."
   ]
  },
  {
   "cell_type": "markdown",
   "metadata": {},
   "source": [
    "### Car Object Detection ~120 MB"
   ]
  },
  {
   "cell_type": "markdown",
   "metadata": {},
   "source": [
    "### House Rooms & Streets Image Dataset ~310 MB"
   ]
  }
 ],
 "metadata": {
  "language_info": {
   "name": "python"
  }
 },
 "nbformat": 4,
 "nbformat_minor": 2
}
