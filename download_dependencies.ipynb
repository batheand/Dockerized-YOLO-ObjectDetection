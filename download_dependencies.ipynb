{
 "cells": [
  {
   "cell_type": "markdown",
   "metadata": {},
   "source": [
    "# Welcome! \n",
    "### Here you will find the code to download the required files. All you need is to run the cells."
   ]
  },
  {
   "cell_type": "markdown",
   "metadata": {},
   "source": [
    "## Download the Model (Required) ~250 MB\n",
    "\n",
    "First of all, we need to download our model in the onnx format. Run the cell below and wait while it downloads the file!"
   ]
  },
  {
   "cell_type": "code",
   "execution_count": null,
   "metadata": {},
   "outputs": [],
   "source": [
    "import urllib.request\n",
    "import urllib.error\n",
    "\n",
    "#Check if the ONNX file is already downloaded\n",
    "try:\n",
    "    open('src/yolov4.onnx')\n",
    "except FileNotFoundError:\n",
    "    try:\n",
    "        # URL of the ONNX file on GitHub\n",
    "        onnx_url = 'https://github.com/onnx/models/raw/main/validated/vision/object_detection_segmentation/yolov4/model/yolov4.onnx'\n",
    "\n",
    "        # Local path to save the downloaded ONNX file\n",
    "        local_path = 'src/yolov4.onnx'\n",
    "\n",
    "        # Download the ONNX file from GitHub\n",
    "        urllib.request.urlretrieve(onnx_url, local_path)\n",
    "        print(\"Download succesful\")\n",
    "    except urllib.error.URLError as e:\n",
    "        print(f\"Error occurred while downloading the file: {e}\")"
   ]
  },
  {
   "cell_type": "markdown",
   "metadata": {},
   "source": [
    "This might take a while so hold on. Once you see Download succesful you can start testing and exploring the model!"
   ]
  }
 ],
 "metadata": {
  "kernelspec": {
   "display_name": "Python 3",
   "language": "python",
   "name": "python3"
  },
  "language_info": {
   "codemirror_mode": {
    "name": "ipython",
    "version": 3
   },
   "file_extension": ".py",
   "mimetype": "text/x-python",
   "name": "python",
   "nbconvert_exporter": "python",
   "pygments_lexer": "ipython3",
   "version": "3.11.4"
  }
 },
 "nbformat": 4,
 "nbformat_minor": 2
}
