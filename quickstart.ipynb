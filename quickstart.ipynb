{
 "cells": [
  {
   "cell_type": "markdown",
   "metadata": {},
   "source": [
    "# Welcome to Quick Start.\n",
    "\n",
    "### This notebook tests the microservice, provides insight on how well it performs and showcases how to use the microservice using python.\n",
    "\n",
    "**Note: You should have the model downloaded for this notebook to work. You can refer to the repository's readme file on the steps to follow before starting testing here. If you're all set let's get started:**\n",
    "\n"
   ]
  },
  {
   "cell_type": "markdown",
   "metadata": {},
   "source": [
    "### Imports"
   ]
  },
  {
   "cell_type": "code",
   "execution_count": null,
   "metadata": {},
   "outputs": [],
   "source": [
    "import matplotlib.pyplot as plt\n",
    "import cv2\n",
    "from datasets import load_dataset\n",
    "import random\n",
    "import numpy as np\n",
    "import time\n",
    "import requests\n",
    "from PIL import Image\n",
    "from io import BytesIO\n",
    "import base64\n",
    "import urllib.parse"
   ]
  },
  {
   "cell_type": "markdown",
   "metadata": {},
   "source": [
    "## Download Datasets for Testing\n",
    "\n",
    "If you don't know where to start in testing the dataset, you can run some of the cells below to download datasets."
   ]
  },
  {
   "cell_type": "markdown",
   "metadata": {},
   "source": [
    "### Traffic Dataset"
   ]
  },
  {
   "cell_type": "code",
   "execution_count": null,
   "metadata": {},
   "outputs": [],
   "source": [
    "# Define the dataset name\n",
    "traffic_dataset_name = \"Francesco/road-traffic\"\n",
    "\n",
    "# Load the dataset\n",
    "traffic_dataset = load_dataset(traffic_dataset_name)\n",
    "traffic_dataset = traffic_dataset['train']\n",
    "\n",
    "print(\"Dataset downloaded successfully!\")"
   ]
  },
  {
   "cell_type": "markdown",
   "metadata": {},
   "source": [
    "### House Rooms Image Dataset "
   ]
  },
  {
   "cell_type": "code",
   "execution_count": null,
   "metadata": {},
   "outputs": [],
   "source": [
    "# Define the dataset name\n",
    "house_dataset_name = \"xyfang/indoor_rooms\"\n",
    "\n",
    "# Load the dataset\n",
    "house_dataset = load_dataset(house_dataset_name)\n",
    "house_dataset = house_dataset[\"train\"]\n",
    "\n",
    "print(\"Dataset downloaded successfully!\")"
   ]
  },
  {
   "cell_type": "markdown",
   "metadata": {},
   "source": [
    "## Build the Docker Image"
   ]
  },
  {
   "cell_type": "markdown",
   "metadata": {},
   "source": [
    "Run the following command on the directory, more instructions can be found on the documents.\n",
    "\n",
    "docker-compose up\n",
    "\n",
    "**You must leave it running while you test** \n",
    "\n",
    "Afterwards you can press ctrl+c to stop running and close the terminal page when it stops."
   ]
  },
  {
   "cell_type": "markdown",
   "metadata": {},
   "source": [
    "## Test the microservice"
   ]
  },
  {
   "cell_type": "markdown",
   "metadata": {},
   "source": [
    "The output of the microservice is a JSON file. Inside the JSON file, the output image is encoded as a base64 string. For showcasing purposes, we can decode the base64 string and display it as an output image ourselves. It's important to note that this decoding process is not performed by the microservice.\n",
    "\n",
    "The next cell contains some required methods and variables. These methods and variables are essential for the functionality of the code in this Jupyter Notebook. "
   ]
  },
  {
   "cell_type": "code",
   "execution_count": null,
   "metadata": {},
   "outputs": [],
   "source": [
    "url = 'http://localhost:5001/detect'\n",
    "\n",
    "#write code that selects 50 random images from the datasets, shows the original and the one outputted from the request, waits 10 seconds, moves on to the next one for 50 images.\n",
    "random.seed(111)\n",
    "traffic_indices = random.sample(range(len(traffic_dataset)), 5)\n",
    "house_indices = random.sample(range(len(house_dataset)), 5)\n",
    "\n",
    "def url_label(label):\n",
    "    encoded_label = urllib.parse.quote(label)\n",
    "    labeled_url = url + \"/\" + encoded_label\n",
    "    return labeled_url\n",
    "\n",
    "# Function to convert image to JPEG bytes\n",
    "def convert_to_jpeg_bytes(image_array):\n",
    "    image = Image.fromarray(image_array)\n",
    "    with io.BytesIO() as output:\n",
    "        image.save(output, format=\"JPEG\")\n",
    "        jpeg_image = output.getvalue()\n",
    "    return jpeg_image"
   ]
  },
  {
   "cell_type": "markdown",
   "metadata": {},
   "source": [
    "### Requests without label filtering"
   ]
  },
  {
   "cell_type": "markdown",
   "metadata": {},
   "source": [
    "Next cell shows randomly selected images being run through our microservice without label filtering, watch the images roll as the microservice processes them:\n"
   ]
  },
  {
   "cell_type": "code",
   "execution_count": null,
   "metadata": {},
   "outputs": [],
   "source": [
    "for idx in traffic_indices:\n",
    "    data = traffic_dataset[idx]\n",
    "    image = np.array(data['image'])\n",
    "    image = convert_to_jpeg_bytes(image)\n",
    "\n",
    "    # Convert the image data to a BytesIO object\n",
    "    image_io = BytesIO(image)\n",
    "    pil_image = Image.open(image_io)\n",
    "\n",
    "    # Run the image through the YOLO model\n",
    "    files = {'image': ('image.jpg', image, 'image/jpeg')}\n",
    "    \n",
    "    # Send the POST request\n",
    "    response = requests.post(url, files=files)\n",
    "\n",
    "    # Check if the request was successful\n",
    "    if response.status_code == 200:\n",
    "        # Print the JSON response\n",
    "        print(response.json())\n",
    "    else:\n",
    "        print(f\"Request failed with status code: {response.status_code}\")\n",
    "        print(response.text)\n",
    "\n",
    "    # Convert the output image \n",
    "    output_image = BytesIO(base64.b64decode(response.json()['image']))\n",
    "    pil_output_image = Image.open(output_image)\n",
    "    \n",
    "    # Display the original and output images side by side\n",
    "    fig, ax = plt.subplots(1, 2, figsize=(10, 5))\n",
    "    ax[0].imshow(pil_image)\n",
    "    ax[0].set_title(\"Original Image\")\n",
    "    ax[0].axis(\"off\")\n",
    "    ax[1].imshow(pil_output_image)\n",
    "    ax[1].set_title(\"Output Image\")\n",
    "    ax[1].axis(\"off\")\n",
    "    plt.show()\n",
    "    time.sleep(1)\n",
    "\n",
    "\n",
    "for idx in house_indices:\n",
    "    data = house_dataset[idx]\n",
    "    image = data['image']\n",
    "    image = np.array(data['image'])\n",
    "    image = convert_to_jpeg_bytes(image)\n",
    "    \n",
    "    image_io = BytesIO(image)\n",
    "    pil_image = Image.open(image_io)\n",
    "\n",
    "    # Run the image through the YOLO model\n",
    "    files = {'image': image}\n",
    "    \n",
    "    # Send the POST request\n",
    "    response = requests.post(url, files=files)\n",
    "\n",
    "    # Check if the request was successful\n",
    "    if response.status_code == 200:\n",
    "        # Print the JSON response\n",
    "        print(response.json())\n",
    "    else:\n",
    "        print(f\"Request failed with status code: {response.status_code}\")\n",
    "        print(response.text)\n",
    "\n",
    "        \n",
    "    # Convert the output image \n",
    "    output_image = BytesIO(base64.b64decode(response.json()['image']))\n",
    "    pil_output_image = Image.open(output_image)\n",
    "    \n",
    "    # Display the original and output images side by side\n",
    "    fig, ax = plt.subplots(1, 2, figsize=(10, 5))\n",
    "    ax[0].imshow(pil_image)\n",
    "    ax[0].set_title(\"Original Image\")\n",
    "    ax[0].axis(\"off\")\n",
    "    ax[1].imshow(pil_output_image)\n",
    "    ax[1].set_title(\"Output Image\")\n",
    "    ax[1].axis(\"off\")\n",
    "    plt.show()\n",
    "    time.sleep(1)"
   ]
  },
  {
   "cell_type": "markdown",
   "metadata": {},
   "source": [
    "### Requests with label filtering"
   ]
  },
  {
   "cell_type": "markdown",
   "metadata": {},
   "source": [
    "The next cell shows how to use label filtering, the key point here is the special url generated for the filters. The url gets the addition /label. See the results by running the cell:"
   ]
  },
  {
   "cell_type": "code",
   "execution_count": null,
   "metadata": {},
   "outputs": [],
   "source": [
    "def request_with_label_filtering(data, label):\n",
    "    image = data['image']\n",
    "    image = np.array(data['image'])\n",
    "    image = convert_to_jpeg_bytes(image)\n",
    "    labeled_url = url_label(label)\n",
    "    image_io = BytesIO(image)\n",
    "    pil_image = Image.open(image_io)\n",
    "\n",
    "    # Run the image through the YOLO model\n",
    "    files = {'image': image}\n",
    "    \n",
    "    # Send the POST request\n",
    "    response_no_filter = requests.post(url, files=files)\n",
    "\n",
    "    # Check if the request was successful\n",
    "    if response_no_filter.status_code == 200:\n",
    "        # Print the JSON response\n",
    "        print(response_no_filter.json())\n",
    "    else:\n",
    "        print(f\"Request failed with status code: {response_no_filter.status_code}\")\n",
    "        print(response_no_filter.text)\n",
    "\n",
    "    # Convert the output image \n",
    "    output_image_nf = BytesIO(base64.b64decode(response_no_filter.json()['image']))\n",
    "    pil_output_image_nf = Image.open(output_image_nf)\n",
    "\n",
    "    # Send the POST request for label filtering\n",
    "    response_with_filter = requests.post(labeled_url, files=files)\n",
    "\n",
    "    # Check if the request was successful\n",
    "    if response_with_filter.status_code == 200:\n",
    "        # Print the JSON response\n",
    "        print(response_with_filter.json())\n",
    "    else:\n",
    "        print(f\"Request failed with status code: {response_with_filter.status_code}\")\n",
    "        print(response_with_filter.text)\n",
    "\n",
    "    # Convert the output image \n",
    "    output_image_wf = BytesIO(base64.b64decode(response_with_filter.json()['image']))\n",
    "    pil_output_image_wf = Image.open(output_image_wf)\n",
    "    \n",
    "    # Display the original and output images side by side\n",
    "    fig, ax = plt.subplots(1, 3, figsize=(15, 5))\n",
    "    ax[0].imshow(pil_image)\n",
    "    ax[0].set_title(\"Original Image\")\n",
    "    ax[0].axis(\"off\")\n",
    "    ax[1].imshow(pil_output_image_nf)\n",
    "    ax[1].set_title(\"Output Image (No Filter)\")\n",
    "    ax[1].axis(\"off\")\n",
    "    ax[2].imshow(pil_output_image_wf)\n",
    "    ax[2].set_title(f\"Output Image (With {label} Filter)\")\n",
    "    ax[2].axis(\"off\")\n",
    "    plt.show()\n",
    "    time.sleep(1)\n",
    "\n",
    "request_with_label_filtering(traffic_dataset[traffic_indices[2]], \"Truck\")\n",
    "request_with_label_filtering(traffic_dataset[traffic_indices[2]], \"Car\")\n",
    "request_with_label_filtering(traffic_dataset[traffic_indices[2]], \"Traffic Light\")\n",
    "\n",
    "request_with_label_filtering(house_dataset[house_indices[4]], \"Sofa\")\n",
    "request_with_label_filtering(house_dataset[house_indices[4]], \"Chair\")\n",
    "request_with_label_filtering(house_dataset[house_indices[4]], \"Book\")"
   ]
  },
  {
   "cell_type": "markdown",
   "metadata": {},
   "source": [
    "## Conclusion and how to explore the microservice:\n",
    "\n",
    "As you can see the microservice performs well and the label filtering option is a nice feature for anyone looking to focus on one type of object.\n",
    "\n",
    "You can test the microservice by Python http requests or use an app like Postman. More info on how to explore the microservice deeply can be found on the readme file."
   ]
  }
 ],
 "metadata": {
  "kernelspec": {
   "display_name": "Python 3",
   "language": "python",
   "name": "python3"
  },
  "language_info": {
   "codemirror_mode": {
    "name": "ipython",
    "version": 3
   },
   "file_extension": ".py",
   "mimetype": "text/x-python",
   "name": "python",
   "nbconvert_exporter": "python",
   "pygments_lexer": "ipython3",
   "version": "3.11.4"
  }
 },
 "nbformat": 4,
 "nbformat_minor": 2
}
